{
  "metadata": {
    "kernelspec": {
      "language": "python",
      "display_name": "Python 3",
      "name": "python3"
    },
    "language_info": {
      "pygments_lexer": "ipython3",
      "nbconvert_exporter": "python",
      "version": "3.6.4",
      "file_extension": ".py",
      "codemirror_mode": {
        "name": "ipython",
        "version": 3
      },
      "name": "python",
      "mimetype": "text/x-python"
    },
    "kaggle": {
      "accelerator": "none",
      "dataSources": [
        {
          "sourceId": 5937858,
          "sourceType": "datasetVersion",
          "datasetId": 3408087
        }
      ],
      "isInternetEnabled": false,
      "language": "python",
      "sourceType": "notebook",
      "isGpuEnabled": false
    },
    "colab": {
      "name": "laptop_price_prediction",
      "provenance": [],
      "include_colab_link": true
    }
  },
  "nbformat_minor": 0,
  "nbformat": 4,
  "cells": [
    {
      "cell_type": "markdown",
      "metadata": {
        "id": "view-in-github",
        "colab_type": "text"
      },
      "source": [
        "<a href=\"https://colab.research.google.com/github/SrijaG29/Laptop_price_prediction_using_pyspark/blob/main/laptop_price_prediction.ipynb\" target=\"_parent\"><img src=\"https://colab.research.google.com/assets/colab-badge.svg\" alt=\"Open In Colab\"/></a>"
      ]
    },
    {
      "source": [
        "\n",
        "# IMPORTANT: RUN THIS CELL IN ORDER TO IMPORT YOUR KAGGLE DATA SOURCES\n",
        "# TO THE CORRECT LOCATION (/kaggle/input) IN YOUR NOTEBOOK,\n",
        "# THEN FEEL FREE TO DELETE THIS CELL.\n",
        "# NOTE: THIS NOTEBOOK ENVIRONMENT DIFFERS FROM KAGGLE'S PYTHON\n",
        "# ENVIRONMENT SO THERE MAY BE MISSING LIBRARIES USED BY YOUR\n",
        "# NOTEBOOK.\n",
        "\n",
        "import os\n",
        "import sys\n",
        "from tempfile import NamedTemporaryFile\n",
        "from urllib.request import urlopen\n",
        "from urllib.parse import unquote, urlparse\n",
        "from urllib.error import HTTPError\n",
        "from zipfile import ZipFile\n",
        "import tarfile\n",
        "import shutil\n",
        "\n",
        "CHUNK_SIZE = 40960\n",
        "DATA_SOURCE_MAPPING = 'laptop-price-prediction-cleaned-dataset:https%3A%2F%2Fstorage.googleapis.com%2Fkaggle-data-sets%2F3408087%2F5937858%2Fbundle%2Farchive.zip%3FX-Goog-Algorithm%3DGOOG4-RSA-SHA256%26X-Goog-Credential%3Dgcp-kaggle-com%2540kaggle-161607.iam.gserviceaccount.com%252F20240827%252Fauto%252Fstorage%252Fgoog4_request%26X-Goog-Date%3D20240827T075642Z%26X-Goog-Expires%3D259200%26X-Goog-SignedHeaders%3Dhost%26X-Goog-Signature%3D5fcd48bdcbd664161970eb37632a6f23539772763f0bf648a40c784711a6361d4a40bf99092e3afb72a1c1a2888b6f73b430734c3023a3ac4a432024bd434c3b43ca916b55cf560c7847d0dfce0fc3d918628ed646e95d1a153658b4fd4641de171796b065c4555205dfbb8ef21d84af0a361a38de986eb5771c7c491f55f03eb730524f0e23236c4c8d3955e282906fc8ae65f0b08a64e4d8c0cea4cdd05da42c40bdc90e63d955bb6f7bee8b4b0c02aae0130c88310001fb1495c0fad98d53b0232a3cdf1f34daf029fb36581cf1f8f4fef0efb391116fc2adf17f91735d78f981f33fbfbfb4e0eda49e5106289c77dee2e78f1c05e37d0c680fb60bdb8b28'\n",
        "\n",
        "KAGGLE_INPUT_PATH='/kaggle/input'\n",
        "KAGGLE_WORKING_PATH='/kaggle/working'\n",
        "KAGGLE_SYMLINK='kaggle'\n",
        "\n",
        "!umount /kaggle/input/ 2> /dev/null\n",
        "shutil.rmtree('/kaggle/input', ignore_errors=True)\n",
        "os.makedirs(KAGGLE_INPUT_PATH, 0o777, exist_ok=True)\n",
        "os.makedirs(KAGGLE_WORKING_PATH, 0o777, exist_ok=True)\n",
        "\n",
        "try:\n",
        "  os.symlink(KAGGLE_INPUT_PATH, os.path.join(\"..\", 'input'), target_is_directory=True)\n",
        "except FileExistsError:\n",
        "  pass\n",
        "try:\n",
        "  os.symlink(KAGGLE_WORKING_PATH, os.path.join(\"..\", 'working'), target_is_directory=True)\n",
        "except FileExistsError:\n",
        "  pass\n",
        "\n",
        "for data_source_mapping in DATA_SOURCE_MAPPING.split(','):\n",
        "    directory, download_url_encoded = data_source_mapping.split(':')\n",
        "    download_url = unquote(download_url_encoded)\n",
        "    filename = urlparse(download_url).path\n",
        "    destination_path = os.path.join(KAGGLE_INPUT_PATH, directory)\n",
        "    try:\n",
        "        with urlopen(download_url) as fileres, NamedTemporaryFile() as tfile:\n",
        "            total_length = fileres.headers['content-length']\n",
        "            print(f'Downloading {directory}, {total_length} bytes compressed')\n",
        "            dl = 0\n",
        "            data = fileres.read(CHUNK_SIZE)\n",
        "            while len(data) > 0:\n",
        "                dl += len(data)\n",
        "                tfile.write(data)\n",
        "                done = int(50 * dl / int(total_length))\n",
        "                sys.stdout.write(f\"\\r[{'=' * done}{' ' * (50-done)}] {dl} bytes downloaded\")\n",
        "                sys.stdout.flush()\n",
        "                data = fileres.read(CHUNK_SIZE)\n",
        "            if filename.endswith('.zip'):\n",
        "              with ZipFile(tfile) as zfile:\n",
        "                zfile.extractall(destination_path)\n",
        "            else:\n",
        "              with tarfile.open(tfile.name) as tarfile:\n",
        "                tarfile.extractall(destination_path)\n",
        "            print(f'\\nDownloaded and uncompressed: {directory}')\n",
        "    except HTTPError as e:\n",
        "        print(f'Failed to load (likely expired) {download_url} to path {destination_path}')\n",
        "        continue\n",
        "    except OSError as e:\n",
        "        print(f'Failed to load {download_url} to path {destination_path}')\n",
        "        continue\n",
        "\n",
        "print('Data source import complete.')\n"
      ],
      "metadata": {
        "colab": {
          "base_uri": "https://localhost:8080/"
        },
        "id": "rdlj1MLh1lmn",
        "outputId": "a8ff55c9-678a-4e82-c823-37b2e1f01fa1"
      },
      "cell_type": "code",
      "outputs": [
        {
          "output_type": "stream",
          "name": "stdout",
          "text": [
            "Downloading laptop-price-prediction-cleaned-dataset, 22067 bytes compressed\n",
            "\r[==================================================] 22067 bytes downloaded\n",
            "Downloaded and uncompressed: laptop-price-prediction-cleaned-dataset\n",
            "Data source import complete.\n"
          ]
        }
      ],
      "execution_count": 1
    },
    {
      "cell_type": "code",
      "source": [
        "# This Python 3 environment comes with many helpful analytics libraries installed\n",
        "# It is defined by the kaggle/python Docker image: https://github.com/kaggle/docker-python\n",
        "# For example, here's several helpful packages to load\n",
        "\n",
        "import numpy as np # linear algebra\n",
        "import pandas as pd # data processing, CSV file I/O (e.g. pd.read_csv)\n",
        "\n",
        "# Input data files are available in the read-only \"../input/\" directory\n",
        "# For example, running this (by clicking run or pressing Shift+Enter) will list all files under the input directory\n",
        "\n",
        "import os\n",
        "for dirname, _, filenames in os.walk('/kaggle/input'):\n",
        "    for filename in filenames:\n",
        "        print(os.path.join(dirname, filename))\n",
        "\n",
        "# You can write up to 20GB to the current directory (/kaggle/working/) that gets preserved as output when you create a version using \"Save & Run All\"\n",
        "# You can also write temporary files to /kaggle/temp/, but they won't be saved outside of the current session"
      ],
      "metadata": {
        "_uuid": "8f2839f25d086af736a60e9eeb907d3b93b6e0e5",
        "_cell_guid": "b1076dfc-b9ad-4769-8c92-a6c4dae69d19",
        "trusted": true,
        "colab": {
          "base_uri": "https://localhost:8080/"
        },
        "id": "Z4QYDBnG1lms",
        "outputId": "438cc6dd-3136-48b8-f23b-6033b313b590"
      },
      "execution_count": 2,
      "outputs": [
        {
          "output_type": "stream",
          "name": "stdout",
          "text": [
            "/kaggle/input/laptop-price-prediction-cleaned-dataset/laptop_data_cleaned.csv\n"
          ]
        }
      ]
    },
    {
      "cell_type": "code",
      "source": [
        "!pip install pyspark"
      ],
      "metadata": {
        "colab": {
          "base_uri": "https://localhost:8080/"
        },
        "id": "Jrv0lQfJ1lmt",
        "outputId": "8d9cf4a2-6b8f-4ffd-9449-6ebe90b61d0d"
      },
      "execution_count": 3,
      "outputs": [
        {
          "output_type": "stream",
          "name": "stdout",
          "text": [
            "Collecting pyspark\n",
            "  Downloading pyspark-3.5.2.tar.gz (317.3 MB)\n",
            "\u001b[2K     \u001b[90m━━━━━━━━━━━━━━━━━━━━━━━━━━━━━━━━━━━━━━━━\u001b[0m \u001b[32m317.3/317.3 MB\u001b[0m \u001b[31m5.1 MB/s\u001b[0m eta \u001b[36m0:00:00\u001b[0m\n",
            "\u001b[?25h  Preparing metadata (setup.py) ... \u001b[?25l\u001b[?25hdone\n",
            "Requirement already satisfied: py4j==0.10.9.7 in /usr/local/lib/python3.10/dist-packages (from pyspark) (0.10.9.7)\n",
            "Building wheels for collected packages: pyspark\n",
            "  Building wheel for pyspark (setup.py) ... \u001b[?25l\u001b[?25hdone\n",
            "  Created wheel for pyspark: filename=pyspark-3.5.2-py2.py3-none-any.whl size=317812365 sha256=76f43f5193b52582edc8b22b4d7e9e3e2052279f94d39adb2b39ceefb54f43a5\n",
            "  Stored in directory: /root/.cache/pip/wheels/34/34/bd/03944534c44b677cd5859f248090daa9fb27b3c8f8e5f49574\n",
            "Successfully built pyspark\n",
            "Installing collected packages: pyspark\n",
            "Successfully installed pyspark-3.5.2\n"
          ]
        }
      ]
    },
    {
      "cell_type": "code",
      "source": [
        "from pyspark.sql import SparkSession"
      ],
      "metadata": {
        "id": "YoaqPPId2qP_"
      },
      "execution_count": 4,
      "outputs": []
    },
    {
      "cell_type": "code",
      "source": [
        "spark =(\n",
        "    SparkSession\n",
        "    .builder\n",
        "    .appName('Laptop_price_prediction')\n",
        "    .master(\"local[*]\")\n",
        "    .getOrCreate()\n",
        ")"
      ],
      "metadata": {
        "id": "gAggStFf2dnd"
      },
      "execution_count": 5,
      "outputs": []
    },
    {
      "cell_type": "code",
      "source": [
        "spark"
      ],
      "metadata": {
        "colab": {
          "base_uri": "https://localhost:8080/",
          "height": 219
        },
        "id": "oIN6FkKI22N6",
        "outputId": "a053d75c-73a8-4f32-ace2-db23ea0bc1b3"
      },
      "execution_count": 6,
      "outputs": [
        {
          "output_type": "execute_result",
          "data": {
            "text/plain": [
              "<pyspark.sql.session.SparkSession at 0x79e6748e3460>"
            ],
            "text/html": [
              "\n",
              "            <div>\n",
              "                <p><b>SparkSession - in-memory</b></p>\n",
              "                \n",
              "        <div>\n",
              "            <p><b>SparkContext</b></p>\n",
              "\n",
              "            <p><a href=\"http://08f57e688f79:4040\">Spark UI</a></p>\n",
              "\n",
              "            <dl>\n",
              "              <dt>Version</dt>\n",
              "                <dd><code>v3.5.2</code></dd>\n",
              "              <dt>Master</dt>\n",
              "                <dd><code>local[*]</code></dd>\n",
              "              <dt>AppName</dt>\n",
              "                <dd><code>Laptop_price_prediction</code></dd>\n",
              "            </dl>\n",
              "        </div>\n",
              "        \n",
              "            </div>\n",
              "        "
            ]
          },
          "metadata": {},
          "execution_count": 6
        }
      ]
    },
    {
      "cell_type": "code",
      "source": [
        "from pyspark.sql.types import StructField,StructType,StringType,IntegerType,FloatType\n",
        "schema = (\n",
        "    StructType(\n",
        "        [\n",
        "            StructField('Company',StringType(),True),\n",
        "            StructField('TypeName',StringType(),True),\n",
        "            StructField('Ram',IntegerType(),True),\n",
        "            StructField('Weight',FloatType(),True),\n",
        "            StructField('Price',FloatType(),True),\n",
        "            StructField('TouchScreen',IntegerType(),True),\n",
        "            StructField('Ips',IntegerType(),True),\n",
        "            StructField('Ppi',FloatType(),True),\n",
        "            StructField('Cpu_brand',StringType(),True),\n",
        "            StructField('HDD',IntegerType(),True),\n",
        "            StructField('SSD',IntegerType(),True),\n",
        "            StructField('Gpu_brand',StringType(),True),\n",
        "            StructField('Os',StringType(),True)\n",
        "        ]\n",
        "    )\n",
        ")"
      ],
      "metadata": {
        "id": "4_axv-i291_U"
      },
      "execution_count": 7,
      "outputs": []
    },
    {
      "cell_type": "code",
      "source": [
        "laptop_details = spark.read.format('csv').option('header',True).schema(schema).load(\"/kaggle/input/laptop-price-prediction-cleaned-dataset/laptop_data_cleaned.csv\")"
      ],
      "metadata": {
        "id": "8V3TYTD13AiF"
      },
      "execution_count": 8,
      "outputs": []
    },
    {
      "cell_type": "code",
      "source": [
        "laptop_details.show(truncate = False)"
      ],
      "metadata": {
        "colab": {
          "base_uri": "https://localhost:8080/"
        },
        "id": "XjW4OYQX3V1v",
        "outputId": "03bd8dbd-0639-4c00-8f95-2bb9abc65207"
      },
      "execution_count": 9,
      "outputs": [
        {
          "output_type": "stream",
          "name": "stdout",
          "text": [
            "+-------+---------+---+------+---------+-----------+---+----------+---------------------+----+---+---------+-------+\n",
            "|Company|TypeName |Ram|Weight|Price    |TouchScreen|Ips|Ppi       |Cpu_brand            |HDD |SSD|Gpu_brand|Os     |\n",
            "+-------+---------+---+------+---------+-----------+---+----------+---------------------+----+---+---------+-------+\n",
            "|Apple  |Ultrabook|8  |1.37  |11.175755|0          |1  |226.983   |Intel Core i5        |0   |128|Intel    |Mac    |\n",
            "|Apple  |Ultrabook|8  |1.34  |10.776777|0          |0  |127.67794 |Intel Core i5        |0   |0  |Intel    |Mac    |\n",
            "|HP     |Notebook |8  |1.86  |10.329931|0          |0  |141.212   |Intel Core i5        |0   |256|Intel    |Others |\n",
            "|Apple  |Ultrabook|16 |1.83  |11.814476|0          |1  |220.53462 |Intel Core i7        |0   |512|AMD      |Mac    |\n",
            "|Apple  |Ultrabook|8  |1.37  |11.473101|0          |1  |226.983   |Intel Core i5        |0   |256|Intel    |Mac    |\n",
            "|Acer   |Notebook |4  |2.1   |9.967026 |0          |0  |100.454666|AMD Processor        |500 |0  |AMD      |Windows|\n",
            "|Apple  |Ultrabook|16 |2.04  |11.644108|0          |1  |220.53462 |Intel Core i7        |0   |0  |Intel    |Mac    |\n",
            "|Apple  |Ultrabook|8  |1.34  |11.030615|0          |0  |127.67794 |Intel Core i5        |0   |0  |Intel    |Mac    |\n",
            "|Asus   |Ultrabook|16 |1.3   |11.285442|0          |0  |157.35051 |Intel Core i7        |0   |512|Nvidia   |Windows|\n",
            "|Acer   |Ultrabook|8  |1.6   |10.621951|0          |1  |157.35051 |Intel Core i5        |0   |256|Intel    |Windows|\n",
            "|HP     |Notebook |4  |1.86  |9.951658 |0          |0  |100.454666|Intel Core i5        |500 |0  |Intel    |Others |\n",
            "|HP     |Notebook |4  |1.86  |9.819077 |0          |0  |141.212   |Intel Core i3        |500 |0  |Intel    |Others |\n",
            "|Apple  |Ultrabook|16 |1.83  |11.775302|0          |1  |220.53462 |Intel Core i7        |0   |256|AMD      |Mac    |\n",
            "|Dell   |Notebook |4  |2.2   |10.187966|0          |0  |141.212   |Intel Core i3        |0   |256|AMD      |Windows|\n",
            "|Apple  |Ultrabook|8  |0.92  |11.116331|0          |1  |226.41554 |Other Intel Processor|0   |256|Intel    |Mac    |\n",
            "|Apple  |Ultrabook|8  |1.37  |11.301072|0          |1  |226.983   |Intel Core i5        |0   |256|Intel    |Mac    |\n",
            "|Dell   |Notebook |8  |2.2   |10.588945|0          |0  |141.212   |Intel Core i7        |0   |256|AMD      |Windows|\n",
            "|Apple  |Ultrabook|16 |1.83  |11.933438|0          |1  |220.53462 |Intel Core i7        |0   |512|AMD      |Mac    |\n",
            "|Lenovo |Notebook |8  |2.2   |10.188168|0          |0  |141.212   |Intel Core i3        |1000|0  |Nvidia   |Others |\n",
            "|Dell   |Ultrabook|8  |1.22  |10.862093|1          |1  |165.63211 |Intel Core i5        |0   |128|Intel    |Windows|\n",
            "+-------+---------+---+------+---------+-----------+---+----------+---------------------+----+---+---------+-------+\n",
            "only showing top 20 rows\n",
            "\n"
          ]
        }
      ]
    },
    {
      "cell_type": "code",
      "source": [
        "laptop_details.printSchema()"
      ],
      "metadata": {
        "colab": {
          "base_uri": "https://localhost:8080/"
        },
        "id": "JP2ey7c2ATAc",
        "outputId": "0206df71-487c-44bc-dcc1-075c7fbee410"
      },
      "execution_count": 10,
      "outputs": [
        {
          "output_type": "stream",
          "name": "stdout",
          "text": [
            "root\n",
            " |-- Company: string (nullable = true)\n",
            " |-- TypeName: string (nullable = true)\n",
            " |-- Ram: integer (nullable = true)\n",
            " |-- Weight: float (nullable = true)\n",
            " |-- Price: float (nullable = true)\n",
            " |-- TouchScreen: integer (nullable = true)\n",
            " |-- Ips: integer (nullable = true)\n",
            " |-- Ppi: float (nullable = true)\n",
            " |-- Cpu_brand: string (nullable = true)\n",
            " |-- HDD: integer (nullable = true)\n",
            " |-- SSD: integer (nullable = true)\n",
            " |-- Gpu_brand: string (nullable = true)\n",
            " |-- Os: string (nullable = true)\n",
            "\n"
          ]
        }
      ]
    },
    {
      "cell_type": "markdown",
      "source": [
        "In this dataset we don't require TypeName.\n",
        "Because we decide the price of the latop based on the features but not on Typename."
      ],
      "metadata": {
        "id": "ZWf6Yqqq46-C"
      }
    },
    {
      "cell_type": "code",
      "source": [
        "laptop_details = laptop_details.drop('TypeName')\n",
        "laptop_details.show()"
      ],
      "metadata": {
        "colab": {
          "base_uri": "https://localhost:8080/"
        },
        "id": "NWUFl9ln4w2I",
        "outputId": "fcd70afc-ace3-4fd9-8b93-6a89cffe180e"
      },
      "execution_count": 11,
      "outputs": [
        {
          "output_type": "stream",
          "name": "stdout",
          "text": [
            "+-------+---+------+---------+-----------+---+----------+--------------------+----+---+---------+-------+\n",
            "|Company|Ram|Weight|    Price|TouchScreen|Ips|       Ppi|           Cpu_brand| HDD|SSD|Gpu_brand|     Os|\n",
            "+-------+---+------+---------+-----------+---+----------+--------------------+----+---+---------+-------+\n",
            "|  Apple|  8|  1.37|11.175755|          0|  1|   226.983|       Intel Core i5|   0|128|    Intel|    Mac|\n",
            "|  Apple|  8|  1.34|10.776777|          0|  0| 127.67794|       Intel Core i5|   0|  0|    Intel|    Mac|\n",
            "|     HP|  8|  1.86|10.329931|          0|  0|   141.212|       Intel Core i5|   0|256|    Intel| Others|\n",
            "|  Apple| 16|  1.83|11.814476|          0|  1| 220.53462|       Intel Core i7|   0|512|      AMD|    Mac|\n",
            "|  Apple|  8|  1.37|11.473101|          0|  1|   226.983|       Intel Core i5|   0|256|    Intel|    Mac|\n",
            "|   Acer|  4|   2.1| 9.967026|          0|  0|100.454666|       AMD Processor| 500|  0|      AMD|Windows|\n",
            "|  Apple| 16|  2.04|11.644108|          0|  1| 220.53462|       Intel Core i7|   0|  0|    Intel|    Mac|\n",
            "|  Apple|  8|  1.34|11.030615|          0|  0| 127.67794|       Intel Core i5|   0|  0|    Intel|    Mac|\n",
            "|   Asus| 16|   1.3|11.285442|          0|  0| 157.35051|       Intel Core i7|   0|512|   Nvidia|Windows|\n",
            "|   Acer|  8|   1.6|10.621951|          0|  1| 157.35051|       Intel Core i5|   0|256|    Intel|Windows|\n",
            "|     HP|  4|  1.86| 9.951658|          0|  0|100.454666|       Intel Core i5| 500|  0|    Intel| Others|\n",
            "|     HP|  4|  1.86| 9.819077|          0|  0|   141.212|       Intel Core i3| 500|  0|    Intel| Others|\n",
            "|  Apple| 16|  1.83|11.775302|          0|  1| 220.53462|       Intel Core i7|   0|256|      AMD|    Mac|\n",
            "|   Dell|  4|   2.2|10.187966|          0|  0|   141.212|       Intel Core i3|   0|256|      AMD|Windows|\n",
            "|  Apple|  8|  0.92|11.116331|          0|  1| 226.41554|Other Intel Proce...|   0|256|    Intel|    Mac|\n",
            "|  Apple|  8|  1.37|11.301072|          0|  1|   226.983|       Intel Core i5|   0|256|    Intel|    Mac|\n",
            "|   Dell|  8|   2.2|10.588945|          0|  0|   141.212|       Intel Core i7|   0|256|      AMD|Windows|\n",
            "|  Apple| 16|  1.83|11.933438|          0|  1| 220.53462|       Intel Core i7|   0|512|      AMD|    Mac|\n",
            "| Lenovo|  8|   2.2|10.188168|          0|  0|   141.212|       Intel Core i3|1000|  0|   Nvidia| Others|\n",
            "|   Dell|  8|  1.22|10.862093|          1|  1| 165.63211|       Intel Core i5|   0|128|    Intel|Windows|\n",
            "+-------+---+------+---------+-----------+---+----------+--------------------+----+---+---------+-------+\n",
            "only showing top 20 rows\n",
            "\n"
          ]
        }
      ]
    },
    {
      "cell_type": "code",
      "source": [
        "import pandas as pd\n",
        "\n",
        "laptop_details_pd = laptop_details.toPandas()\n",
        "\n",
        "laptop_details_pd.isna().sum()\n"
      ],
      "metadata": {
        "colab": {
          "base_uri": "https://localhost:8080/",
          "height": 460
        },
        "id": "WY0wgepA5krB",
        "outputId": "7cb73ef9-be86-45f1-a047-e4a3477f5a4b"
      },
      "execution_count": 12,
      "outputs": [
        {
          "output_type": "execute_result",
          "data": {
            "text/plain": [
              "Company        0\n",
              "Ram            0\n",
              "Weight         0\n",
              "Price          0\n",
              "TouchScreen    0\n",
              "Ips            0\n",
              "Ppi            0\n",
              "Cpu_brand      0\n",
              "HDD            0\n",
              "SSD            0\n",
              "Gpu_brand      0\n",
              "Os             0\n",
              "dtype: int64"
            ],
            "text/html": [
              "<div>\n",
              "<style scoped>\n",
              "    .dataframe tbody tr th:only-of-type {\n",
              "        vertical-align: middle;\n",
              "    }\n",
              "\n",
              "    .dataframe tbody tr th {\n",
              "        vertical-align: top;\n",
              "    }\n",
              "\n",
              "    .dataframe thead th {\n",
              "        text-align: right;\n",
              "    }\n",
              "</style>\n",
              "<table border=\"1\" class=\"dataframe\">\n",
              "  <thead>\n",
              "    <tr style=\"text-align: right;\">\n",
              "      <th></th>\n",
              "      <th>0</th>\n",
              "    </tr>\n",
              "  </thead>\n",
              "  <tbody>\n",
              "    <tr>\n",
              "      <th>Company</th>\n",
              "      <td>0</td>\n",
              "    </tr>\n",
              "    <tr>\n",
              "      <th>Ram</th>\n",
              "      <td>0</td>\n",
              "    </tr>\n",
              "    <tr>\n",
              "      <th>Weight</th>\n",
              "      <td>0</td>\n",
              "    </tr>\n",
              "    <tr>\n",
              "      <th>Price</th>\n",
              "      <td>0</td>\n",
              "    </tr>\n",
              "    <tr>\n",
              "      <th>TouchScreen</th>\n",
              "      <td>0</td>\n",
              "    </tr>\n",
              "    <tr>\n",
              "      <th>Ips</th>\n",
              "      <td>0</td>\n",
              "    </tr>\n",
              "    <tr>\n",
              "      <th>Ppi</th>\n",
              "      <td>0</td>\n",
              "    </tr>\n",
              "    <tr>\n",
              "      <th>Cpu_brand</th>\n",
              "      <td>0</td>\n",
              "    </tr>\n",
              "    <tr>\n",
              "      <th>HDD</th>\n",
              "      <td>0</td>\n",
              "    </tr>\n",
              "    <tr>\n",
              "      <th>SSD</th>\n",
              "      <td>0</td>\n",
              "    </tr>\n",
              "    <tr>\n",
              "      <th>Gpu_brand</th>\n",
              "      <td>0</td>\n",
              "    </tr>\n",
              "    <tr>\n",
              "      <th>Os</th>\n",
              "      <td>0</td>\n",
              "    </tr>\n",
              "  </tbody>\n",
              "</table>\n",
              "</div><br><label><b>dtype:</b> int64</label>"
            ]
          },
          "metadata": {},
          "execution_count": 12
        }
      ]
    },
    {
      "cell_type": "code",
      "source": [
        "print(laptop_details.dtypes)"
      ],
      "metadata": {
        "colab": {
          "base_uri": "https://localhost:8080/"
        },
        "id": "Q8NIw-0J7CTx",
        "outputId": "9bbb66c2-d2e8-4917-8b86-a5b4c81d3691"
      },
      "execution_count": 13,
      "outputs": [
        {
          "output_type": "stream",
          "name": "stdout",
          "text": [
            "[('Company', 'string'), ('Ram', 'int'), ('Weight', 'float'), ('Price', 'float'), ('TouchScreen', 'int'), ('Ips', 'int'), ('Ppi', 'float'), ('Cpu_brand', 'string'), ('HDD', 'int'), ('SSD', 'int'), ('Gpu_brand', 'string'), ('Os', 'string')]\n"
          ]
        }
      ]
    },
    {
      "cell_type": "code",
      "source": [
        "from pyspark.sql.functions import col,round\n",
        "laptop_details = laptop_details.withColumn('Weight',round(col('Weight'),0).cast('int'))\\\n",
        "                 .withColumn('Ram',round(col('Ram'),0).cast('int'))\\\n",
        "                 .withColumn('Ppi',round(col('Ppi'),0).cast('int'))\\\n",
        "                 .withColumn('Price',round(col('Price'),0).cast('int'))\n",
        "\n",
        "laptop_details.show(truncate = False)\n"
      ],
      "metadata": {
        "colab": {
          "base_uri": "https://localhost:8080/"
        },
        "id": "fvoDOFiQ7s8C",
        "outputId": "0024c964-f566-465b-ba92-fbce0600ab1f"
      },
      "execution_count": 14,
      "outputs": [
        {
          "output_type": "stream",
          "name": "stdout",
          "text": [
            "+-------+---+------+-----+-----------+---+---+---------------------+----+---+---------+-------+\n",
            "|Company|Ram|Weight|Price|TouchScreen|Ips|Ppi|Cpu_brand            |HDD |SSD|Gpu_brand|Os     |\n",
            "+-------+---+------+-----+-----------+---+---+---------------------+----+---+---------+-------+\n",
            "|Apple  |8  |1     |11   |0          |1  |227|Intel Core i5        |0   |128|Intel    |Mac    |\n",
            "|Apple  |8  |1     |11   |0          |0  |128|Intel Core i5        |0   |0  |Intel    |Mac    |\n",
            "|HP     |8  |2     |10   |0          |0  |141|Intel Core i5        |0   |256|Intel    |Others |\n",
            "|Apple  |16 |2     |12   |0          |1  |221|Intel Core i7        |0   |512|AMD      |Mac    |\n",
            "|Apple  |8  |1     |11   |0          |1  |227|Intel Core i5        |0   |256|Intel    |Mac    |\n",
            "|Acer   |4  |2     |10   |0          |0  |100|AMD Processor        |500 |0  |AMD      |Windows|\n",
            "|Apple  |16 |2     |12   |0          |1  |221|Intel Core i7        |0   |0  |Intel    |Mac    |\n",
            "|Apple  |8  |1     |11   |0          |0  |128|Intel Core i5        |0   |0  |Intel    |Mac    |\n",
            "|Asus   |16 |1     |11   |0          |0  |157|Intel Core i7        |0   |512|Nvidia   |Windows|\n",
            "|Acer   |8  |2     |11   |0          |1  |157|Intel Core i5        |0   |256|Intel    |Windows|\n",
            "|HP     |4  |2     |10   |0          |0  |100|Intel Core i5        |500 |0  |Intel    |Others |\n",
            "|HP     |4  |2     |10   |0          |0  |141|Intel Core i3        |500 |0  |Intel    |Others |\n",
            "|Apple  |16 |2     |12   |0          |1  |221|Intel Core i7        |0   |256|AMD      |Mac    |\n",
            "|Dell   |4  |2     |10   |0          |0  |141|Intel Core i3        |0   |256|AMD      |Windows|\n",
            "|Apple  |8  |1     |11   |0          |1  |226|Other Intel Processor|0   |256|Intel    |Mac    |\n",
            "|Apple  |8  |1     |11   |0          |1  |227|Intel Core i5        |0   |256|Intel    |Mac    |\n",
            "|Dell   |8  |2     |11   |0          |0  |141|Intel Core i7        |0   |256|AMD      |Windows|\n",
            "|Apple  |16 |2     |12   |0          |1  |221|Intel Core i7        |0   |512|AMD      |Mac    |\n",
            "|Lenovo |8  |2     |10   |0          |0  |141|Intel Core i3        |1000|0  |Nvidia   |Others |\n",
            "|Dell   |8  |1     |11   |1          |1  |166|Intel Core i5        |0   |128|Intel    |Windows|\n",
            "+-------+---+------+-----+-----------+---+---+---------------------+----+---+---------+-------+\n",
            "only showing top 20 rows\n",
            "\n"
          ]
        }
      ]
    },
    {
      "cell_type": "code",
      "source": [
        "laptop_details.printSchema()"
      ],
      "metadata": {
        "colab": {
          "base_uri": "https://localhost:8080/"
        },
        "id": "jL8ijB8Y8jWx",
        "outputId": "f20e9ffc-e61f-4cb7-c368-1a7343fd6358"
      },
      "execution_count": 15,
      "outputs": [
        {
          "output_type": "stream",
          "name": "stdout",
          "text": [
            "root\n",
            " |-- Company: string (nullable = true)\n",
            " |-- Ram: integer (nullable = true)\n",
            " |-- Weight: integer (nullable = true)\n",
            " |-- Price: integer (nullable = true)\n",
            " |-- TouchScreen: integer (nullable = true)\n",
            " |-- Ips: integer (nullable = true)\n",
            " |-- Ppi: integer (nullable = true)\n",
            " |-- Cpu_brand: string (nullable = true)\n",
            " |-- HDD: integer (nullable = true)\n",
            " |-- SSD: integer (nullable = true)\n",
            " |-- Gpu_brand: string (nullable = true)\n",
            " |-- Os: string (nullable = true)\n",
            "\n"
          ]
        }
      ]
    },
    {
      "cell_type": "code",
      "source": [
        "laptop_details.groupBy('Company').count().show() # 19 unique values"
      ],
      "metadata": {
        "colab": {
          "base_uri": "https://localhost:8080/"
        },
        "id": "SuJ9_J_rBcUK",
        "outputId": "c910a21b-549d-4280-9405-9f296881e88d"
      },
      "execution_count": 16,
      "outputs": [
        {
          "output_type": "stream",
          "name": "stdout",
          "text": [
            "+---------+-----+\n",
            "|  Company|count|\n",
            "+---------+-----+\n",
            "|    Razer|    7|\n",
            "|  Fujitsu|    3|\n",
            "|   Huawei|    2|\n",
            "|   Xiaomi|    4|\n",
            "|       HP|  268|\n",
            "|     Dell|  291|\n",
            "|     Vero|    4|\n",
            "|     Acer|  101|\n",
            "|     Asus|  151|\n",
            "|   Lenovo|  289|\n",
            "| Mediacom|    7|\n",
            "|  Samsung|    8|\n",
            "|   Google|    3|\n",
            "|       LG|    3|\n",
            "|    Chuwi|    3|\n",
            "|Microsoft|    6|\n",
            "|    Apple|   21|\n",
            "|      MSI|   54|\n",
            "|  Toshiba|   48|\n",
            "+---------+-----+\n",
            "\n"
          ]
        }
      ]
    },
    {
      "cell_type": "code",
      "source": [
        "laptop_details.groupBy('Cpu_brand').count().show() # 5 unique values"
      ],
      "metadata": {
        "colab": {
          "base_uri": "https://localhost:8080/"
        },
        "id": "eK-JCxLuCV76",
        "outputId": "f8cd697b-f56f-4cf7-9936-fdfa9ca6b508"
      },
      "execution_count": 17,
      "outputs": [
        {
          "output_type": "stream",
          "name": "stdout",
          "text": [
            "+--------------------+-----+\n",
            "|           Cpu_brand|count|\n",
            "+--------------------+-----+\n",
            "|       Intel Core i3|  134|\n",
            "|Other Intel Proce...|  141|\n",
            "|       Intel Core i5|  423|\n",
            "|       Intel Core i7|  515|\n",
            "|       AMD Processor|   60|\n",
            "+--------------------+-----+\n",
            "\n"
          ]
        }
      ]
    },
    {
      "cell_type": "code",
      "source": [
        "laptop_details.groupBy('Gpu_brand').count().show() # 3 unique values"
      ],
      "metadata": {
        "colab": {
          "base_uri": "https://localhost:8080/"
        },
        "id": "2MhNuPYFCj9R",
        "outputId": "00449e1f-3d31-4dbc-9919-9b1884fd14da"
      },
      "execution_count": 18,
      "outputs": [
        {
          "output_type": "stream",
          "name": "stdout",
          "text": [
            "+---------+-----+\n",
            "|Gpu_brand|count|\n",
            "+---------+-----+\n",
            "|      AMD|  174|\n",
            "|    Intel|  703|\n",
            "|   Nvidia|  396|\n",
            "+---------+-----+\n",
            "\n"
          ]
        }
      ]
    },
    {
      "cell_type": "code",
      "source": [
        "laptop_details.groupBy('Os').count().show() # 3 unique values"
      ],
      "metadata": {
        "colab": {
          "base_uri": "https://localhost:8080/"
        },
        "id": "bX11sHrKCvg2",
        "outputId": "195a9a4c-a3a2-426f-cf3f-af84e582fd10"
      },
      "execution_count": 19,
      "outputs": [
        {
          "output_type": "stream",
          "name": "stdout",
          "text": [
            "+-------+-----+\n",
            "|     Os|count|\n",
            "+-------+-----+\n",
            "| Others|  152|\n",
            "|    Mac|   21|\n",
            "|Windows| 1100|\n",
            "+-------+-----+\n",
            "\n"
          ]
        }
      ]
    },
    {
      "cell_type": "code",
      "source": [
        "laptop_details_copy = laptop_details.select('*')\n",
        "laptop_details_copy.show()"
      ],
      "metadata": {
        "colab": {
          "base_uri": "https://localhost:8080/"
        },
        "id": "Ixs3MxtfEhaA",
        "outputId": "f8a4d720-847f-4faa-b73e-268fd5357c42"
      },
      "execution_count": 97,
      "outputs": [
        {
          "output_type": "stream",
          "name": "stdout",
          "text": [
            "+-------+---+------+-----+-----------+---+---+--------------------+----+---+---------+-------+\n",
            "|Company|Ram|Weight|Price|TouchScreen|Ips|Ppi|           Cpu_brand| HDD|SSD|Gpu_brand|     Os|\n",
            "+-------+---+------+-----+-----------+---+---+--------------------+----+---+---------+-------+\n",
            "|  Apple|  8|     1|   11|          0|  1|227|       Intel Core i5|   0|128|    Intel|    Mac|\n",
            "|  Apple|  8|     1|   11|          0|  0|128|       Intel Core i5|   0|  0|    Intel|    Mac|\n",
            "|     HP|  8|     2|   10|          0|  0|141|       Intel Core i5|   0|256|    Intel| Others|\n",
            "|  Apple| 16|     2|   12|          0|  1|221|       Intel Core i7|   0|512|      AMD|    Mac|\n",
            "|  Apple|  8|     1|   11|          0|  1|227|       Intel Core i5|   0|256|    Intel|    Mac|\n",
            "|   Acer|  4|     2|   10|          0|  0|100|       AMD Processor| 500|  0|      AMD|Windows|\n",
            "|  Apple| 16|     2|   12|          0|  1|221|       Intel Core i7|   0|  0|    Intel|    Mac|\n",
            "|  Apple|  8|     1|   11|          0|  0|128|       Intel Core i5|   0|  0|    Intel|    Mac|\n",
            "|   Asus| 16|     1|   11|          0|  0|157|       Intel Core i7|   0|512|   Nvidia|Windows|\n",
            "|   Acer|  8|     2|   11|          0|  1|157|       Intel Core i5|   0|256|    Intel|Windows|\n",
            "|     HP|  4|     2|   10|          0|  0|100|       Intel Core i5| 500|  0|    Intel| Others|\n",
            "|     HP|  4|     2|   10|          0|  0|141|       Intel Core i3| 500|  0|    Intel| Others|\n",
            "|  Apple| 16|     2|   12|          0|  1|221|       Intel Core i7|   0|256|      AMD|    Mac|\n",
            "|   Dell|  4|     2|   10|          0|  0|141|       Intel Core i3|   0|256|      AMD|Windows|\n",
            "|  Apple|  8|     1|   11|          0|  1|226|Other Intel Proce...|   0|256|    Intel|    Mac|\n",
            "|  Apple|  8|     1|   11|          0|  1|227|       Intel Core i5|   0|256|    Intel|    Mac|\n",
            "|   Dell|  8|     2|   11|          0|  0|141|       Intel Core i7|   0|256|      AMD|Windows|\n",
            "|  Apple| 16|     2|   12|          0|  1|221|       Intel Core i7|   0|512|      AMD|    Mac|\n",
            "| Lenovo|  8|     2|   10|          0|  0|141|       Intel Core i3|1000|  0|   Nvidia| Others|\n",
            "|   Dell|  8|     1|   11|          1|  1|166|       Intel Core i5|   0|128|    Intel|Windows|\n",
            "+-------+---+------+-----+-----------+---+---+--------------------+----+---+---------+-------+\n",
            "only showing top 20 rows\n",
            "\n"
          ]
        }
      ]
    },
    {
      "cell_type": "code",
      "source": [
        "from pyspark.ml.feature import StringIndexer\n",
        "\n",
        "# Initialize the StringIndexer\n",
        "company_indexer = StringIndexer(inputCol=\"Company\", outputCol=\"Company_encoded\")\n",
        "company_model = company_indexer.fit(laptop_details_copy)\n",
        "\n",
        "# Fit the indexer to the DataFrame and transform it\n",
        "#laptop_details_copy = company_indexer.fit(laptop_details_copy).transform(laptop_details_copy)\n",
        "laptop_details_copy = company_model.transform(laptop_details_copy)"
      ],
      "metadata": {
        "id": "nGusDRKDIY1M"
      },
      "execution_count": 98,
      "outputs": []
    },
    {
      "cell_type": "code",
      "source": [
        "from pyspark.ml.feature import StringIndexer\n",
        "\n",
        "# Initialize the StringIndexer\n",
        "cpu_brand_indexer = StringIndexer(inputCol=\"Cpu_brand\", outputCol=\"Cpu_brand_encoded\")\n",
        "cpu_brand_model = cpu_brand_indexer.fit(laptop_details_copy)\n",
        "# Fit the indexer to the DataFrame and transform it\n",
        "laptop_details_copy = cpu_brand_model.transform(laptop_details_copy)"
      ],
      "metadata": {
        "id": "bgviwm_WC_vv"
      },
      "execution_count": 99,
      "outputs": []
    },
    {
      "cell_type": "code",
      "source": [
        "from pyspark.ml.feature import StringIndexer\n",
        "\n",
        "# Initialize the StringIndexer\n",
        "gpu_brand_indexer = StringIndexer(inputCol=\"Gpu_brand\", outputCol=\"Gpu_brand_encoded\")\n",
        "gpu_brand_model = gpu_brand_indexer.fit(laptop_details_copy)\n",
        "# Fit the indexer to the DataFrame and transform it\n",
        "laptop_details_copy = gpu_brand_model.transform(laptop_details_copy)"
      ],
      "metadata": {
        "id": "TT8OLPX0IfUV"
      },
      "execution_count": 100,
      "outputs": []
    },
    {
      "cell_type": "code",
      "source": [
        "from pyspark.ml.feature import StringIndexer\n",
        "\n",
        "# Initialize the StringIndexer\n",
        "os_indexer = StringIndexer(inputCol=\"Os\", outputCol=\"Os_encoded\")\n",
        "os_model = os_indexer.fit(laptop_details_copy)\n",
        "\n",
        "# Fit the indexer to the DataFrame and transform it\n",
        "laptop_details_copy = os_model.transform(laptop_details_copy)"
      ],
      "metadata": {
        "id": "4m7bVXf4IlI4"
      },
      "execution_count": 101,
      "outputs": []
    },
    {
      "cell_type": "code",
      "source": [
        "laptop_details_copy.show()"
      ],
      "metadata": {
        "colab": {
          "base_uri": "https://localhost:8080/"
        },
        "id": "GFukAGffECrl",
        "outputId": "0a165043-06eb-4518-a284-bdc180c7a579"
      },
      "execution_count": 102,
      "outputs": [
        {
          "output_type": "stream",
          "name": "stdout",
          "text": [
            "+-------+---+------+-----+-----------+---+---+--------------------+----+---+---------+-------+---------------+-----------------+-----------------+----------+\n",
            "|Company|Ram|Weight|Price|TouchScreen|Ips|Ppi|           Cpu_brand| HDD|SSD|Gpu_brand|     Os|Company_encoded|Cpu_brand_encoded|Gpu_brand_encoded|Os_encoded|\n",
            "+-------+---+------+-----+-----------+---+---+--------------------+----+---+---------+-------+---------------+-----------------+-----------------+----------+\n",
            "|  Apple|  8|     1|   11|          0|  1|227|       Intel Core i5|   0|128|    Intel|    Mac|            7.0|              1.0|              0.0|       2.0|\n",
            "|  Apple|  8|     1|   11|          0|  0|128|       Intel Core i5|   0|  0|    Intel|    Mac|            7.0|              1.0|              0.0|       2.0|\n",
            "|     HP|  8|     2|   10|          0|  0|141|       Intel Core i5|   0|256|    Intel| Others|            2.0|              1.0|              0.0|       1.0|\n",
            "|  Apple| 16|     2|   12|          0|  1|221|       Intel Core i7|   0|512|      AMD|    Mac|            7.0|              0.0|              2.0|       2.0|\n",
            "|  Apple|  8|     1|   11|          0|  1|227|       Intel Core i5|   0|256|    Intel|    Mac|            7.0|              1.0|              0.0|       2.0|\n",
            "|   Acer|  4|     2|   10|          0|  0|100|       AMD Processor| 500|  0|      AMD|Windows|            4.0|              4.0|              2.0|       0.0|\n",
            "|  Apple| 16|     2|   12|          0|  1|221|       Intel Core i7|   0|  0|    Intel|    Mac|            7.0|              0.0|              0.0|       2.0|\n",
            "|  Apple|  8|     1|   11|          0|  0|128|       Intel Core i5|   0|  0|    Intel|    Mac|            7.0|              1.0|              0.0|       2.0|\n",
            "|   Asus| 16|     1|   11|          0|  0|157|       Intel Core i7|   0|512|   Nvidia|Windows|            3.0|              0.0|              1.0|       0.0|\n",
            "|   Acer|  8|     2|   11|          0|  1|157|       Intel Core i5|   0|256|    Intel|Windows|            4.0|              1.0|              0.0|       0.0|\n",
            "|     HP|  4|     2|   10|          0|  0|100|       Intel Core i5| 500|  0|    Intel| Others|            2.0|              1.0|              0.0|       1.0|\n",
            "|     HP|  4|     2|   10|          0|  0|141|       Intel Core i3| 500|  0|    Intel| Others|            2.0|              3.0|              0.0|       1.0|\n",
            "|  Apple| 16|     2|   12|          0|  1|221|       Intel Core i7|   0|256|      AMD|    Mac|            7.0|              0.0|              2.0|       2.0|\n",
            "|   Dell|  4|     2|   10|          0|  0|141|       Intel Core i3|   0|256|      AMD|Windows|            0.0|              3.0|              2.0|       0.0|\n",
            "|  Apple|  8|     1|   11|          0|  1|226|Other Intel Proce...|   0|256|    Intel|    Mac|            7.0|              2.0|              0.0|       2.0|\n",
            "|  Apple|  8|     1|   11|          0|  1|227|       Intel Core i5|   0|256|    Intel|    Mac|            7.0|              1.0|              0.0|       2.0|\n",
            "|   Dell|  8|     2|   11|          0|  0|141|       Intel Core i7|   0|256|      AMD|Windows|            0.0|              0.0|              2.0|       0.0|\n",
            "|  Apple| 16|     2|   12|          0|  1|221|       Intel Core i7|   0|512|      AMD|    Mac|            7.0|              0.0|              2.0|       2.0|\n",
            "| Lenovo|  8|     2|   10|          0|  0|141|       Intel Core i3|1000|  0|   Nvidia| Others|            1.0|              3.0|              1.0|       1.0|\n",
            "|   Dell|  8|     1|   11|          1|  1|166|       Intel Core i5|   0|128|    Intel|Windows|            0.0|              1.0|              0.0|       0.0|\n",
            "+-------+---+------+-----+-----------+---+---+--------------------+----+---+---------+-------+---------------+-----------------+-----------------+----------+\n",
            "only showing top 20 rows\n",
            "\n"
          ]
        }
      ]
    },
    {
      "cell_type": "code",
      "source": [
        "laptop_details_copy = laptop_details_copy.drop('Company','Cpu_brand','Gpu_brand','Os')\n",
        "laptop_details_copy.show()"
      ],
      "metadata": {
        "colab": {
          "base_uri": "https://localhost:8080/"
        },
        "id": "D_V3nRk7EGsi",
        "outputId": "c909f715-475f-423d-e7f9-36747b3ab1b3"
      },
      "execution_count": 103,
      "outputs": [
        {
          "output_type": "stream",
          "name": "stdout",
          "text": [
            "+---+------+-----+-----------+---+---+----+---+---------------+-----------------+-----------------+----------+\n",
            "|Ram|Weight|Price|TouchScreen|Ips|Ppi| HDD|SSD|Company_encoded|Cpu_brand_encoded|Gpu_brand_encoded|Os_encoded|\n",
            "+---+------+-----+-----------+---+---+----+---+---------------+-----------------+-----------------+----------+\n",
            "|  8|     1|   11|          0|  1|227|   0|128|            7.0|              1.0|              0.0|       2.0|\n",
            "|  8|     1|   11|          0|  0|128|   0|  0|            7.0|              1.0|              0.0|       2.0|\n",
            "|  8|     2|   10|          0|  0|141|   0|256|            2.0|              1.0|              0.0|       1.0|\n",
            "| 16|     2|   12|          0|  1|221|   0|512|            7.0|              0.0|              2.0|       2.0|\n",
            "|  8|     1|   11|          0|  1|227|   0|256|            7.0|              1.0|              0.0|       2.0|\n",
            "|  4|     2|   10|          0|  0|100| 500|  0|            4.0|              4.0|              2.0|       0.0|\n",
            "| 16|     2|   12|          0|  1|221|   0|  0|            7.0|              0.0|              0.0|       2.0|\n",
            "|  8|     1|   11|          0|  0|128|   0|  0|            7.0|              1.0|              0.0|       2.0|\n",
            "| 16|     1|   11|          0|  0|157|   0|512|            3.0|              0.0|              1.0|       0.0|\n",
            "|  8|     2|   11|          0|  1|157|   0|256|            4.0|              1.0|              0.0|       0.0|\n",
            "|  4|     2|   10|          0|  0|100| 500|  0|            2.0|              1.0|              0.0|       1.0|\n",
            "|  4|     2|   10|          0|  0|141| 500|  0|            2.0|              3.0|              0.0|       1.0|\n",
            "| 16|     2|   12|          0|  1|221|   0|256|            7.0|              0.0|              2.0|       2.0|\n",
            "|  4|     2|   10|          0|  0|141|   0|256|            0.0|              3.0|              2.0|       0.0|\n",
            "|  8|     1|   11|          0|  1|226|   0|256|            7.0|              2.0|              0.0|       2.0|\n",
            "|  8|     1|   11|          0|  1|227|   0|256|            7.0|              1.0|              0.0|       2.0|\n",
            "|  8|     2|   11|          0|  0|141|   0|256|            0.0|              0.0|              2.0|       0.0|\n",
            "| 16|     2|   12|          0|  1|221|   0|512|            7.0|              0.0|              2.0|       2.0|\n",
            "|  8|     2|   10|          0|  0|141|1000|  0|            1.0|              3.0|              1.0|       1.0|\n",
            "|  8|     1|   11|          1|  1|166|   0|128|            0.0|              1.0|              0.0|       0.0|\n",
            "+---+------+-----+-----------+---+---+----+---+---------------+-----------------+-----------------+----------+\n",
            "only showing top 20 rows\n",
            "\n"
          ]
        }
      ]
    },
    {
      "cell_type": "code",
      "source": [
        "from pyspark.ml.feature import VectorAssembler\n",
        "\n",
        "assembler = VectorAssembler(inputCols = ['Ram','Weight','TouchScreen','Ips','Ppi','HDD','SSD','Company_encoded','Cpu_brand_encoded','Gpu_brand_encoded','Os_encoded'],outputCol = 'laptop_details')\n",
        "laptop_details_copy = assembler.transform(laptop_details_copy)"
      ],
      "metadata": {
        "id": "rDnWvMkJHuRs"
      },
      "execution_count": 104,
      "outputs": []
    },
    {
      "cell_type": "code",
      "source": [
        "laptop_details_copy.show(truncate = False)"
      ],
      "metadata": {
        "colab": {
          "base_uri": "https://localhost:8080/"
        },
        "id": "whpBCQfMMs9_",
        "outputId": "c98fab3e-5710-4452-ea9e-2c878e7b8ecd"
      },
      "execution_count": 105,
      "outputs": [
        {
          "output_type": "stream",
          "name": "stdout",
          "text": [
            "+---+------+-----+-----------+---+---+----+---+---------------+-----------------+-----------------+----------+--------------------------------------------------+\n",
            "|Ram|Weight|Price|TouchScreen|Ips|Ppi|HDD |SSD|Company_encoded|Cpu_brand_encoded|Gpu_brand_encoded|Os_encoded|laptop_details                                    |\n",
            "+---+------+-----+-----------+---+---+----+---+---------------+-----------------+-----------------+----------+--------------------------------------------------+\n",
            "|8  |1     |11   |0          |1  |227|0   |128|7.0            |1.0              |0.0              |2.0       |[8.0,1.0,0.0,1.0,227.0,0.0,128.0,7.0,1.0,0.0,2.0] |\n",
            "|8  |1     |11   |0          |0  |128|0   |0  |7.0            |1.0              |0.0              |2.0       |(11,[0,1,4,7,8,10],[8.0,1.0,128.0,7.0,1.0,2.0])   |\n",
            "|8  |2     |10   |0          |0  |141|0   |256|2.0            |1.0              |0.0              |1.0       |[8.0,2.0,0.0,0.0,141.0,0.0,256.0,2.0,1.0,0.0,1.0] |\n",
            "|16 |2     |12   |0          |1  |221|0   |512|7.0            |0.0              |2.0              |2.0       |[16.0,2.0,0.0,1.0,221.0,0.0,512.0,7.0,0.0,2.0,2.0]|\n",
            "|8  |1     |11   |0          |1  |227|0   |256|7.0            |1.0              |0.0              |2.0       |[8.0,1.0,0.0,1.0,227.0,0.0,256.0,7.0,1.0,0.0,2.0] |\n",
            "|4  |2     |10   |0          |0  |100|500 |0  |4.0            |4.0              |2.0              |0.0       |[4.0,2.0,0.0,0.0,100.0,500.0,0.0,4.0,4.0,2.0,0.0] |\n",
            "|16 |2     |12   |0          |1  |221|0   |0  |7.0            |0.0              |0.0              |2.0       |(11,[0,1,3,4,7,10],[16.0,2.0,1.0,221.0,7.0,2.0])  |\n",
            "|8  |1     |11   |0          |0  |128|0   |0  |7.0            |1.0              |0.0              |2.0       |(11,[0,1,4,7,8,10],[8.0,1.0,128.0,7.0,1.0,2.0])   |\n",
            "|16 |1     |11   |0          |0  |157|0   |512|3.0            |0.0              |1.0              |0.0       |(11,[0,1,4,6,7,9],[16.0,1.0,157.0,512.0,3.0,1.0]) |\n",
            "|8  |2     |11   |0          |1  |157|0   |256|4.0            |1.0              |0.0              |0.0       |[8.0,2.0,0.0,1.0,157.0,0.0,256.0,4.0,1.0,0.0,0.0] |\n",
            "|4  |2     |10   |0          |0  |100|500 |0  |2.0            |1.0              |0.0              |1.0       |[4.0,2.0,0.0,0.0,100.0,500.0,0.0,2.0,1.0,0.0,1.0] |\n",
            "|4  |2     |10   |0          |0  |141|500 |0  |2.0            |3.0              |0.0              |1.0       |[4.0,2.0,0.0,0.0,141.0,500.0,0.0,2.0,3.0,0.0,1.0] |\n",
            "|16 |2     |12   |0          |1  |221|0   |256|7.0            |0.0              |2.0              |2.0       |[16.0,2.0,0.0,1.0,221.0,0.0,256.0,7.0,0.0,2.0,2.0]|\n",
            "|4  |2     |10   |0          |0  |141|0   |256|0.0            |3.0              |2.0              |0.0       |(11,[0,1,4,6,8,9],[4.0,2.0,141.0,256.0,3.0,2.0])  |\n",
            "|8  |1     |11   |0          |1  |226|0   |256|7.0            |2.0              |0.0              |2.0       |[8.0,1.0,0.0,1.0,226.0,0.0,256.0,7.0,2.0,0.0,2.0] |\n",
            "|8  |1     |11   |0          |1  |227|0   |256|7.0            |1.0              |0.0              |2.0       |[8.0,1.0,0.0,1.0,227.0,0.0,256.0,7.0,1.0,0.0,2.0] |\n",
            "|8  |2     |11   |0          |0  |141|0   |256|0.0            |0.0              |2.0              |0.0       |(11,[0,1,4,6,9],[8.0,2.0,141.0,256.0,2.0])        |\n",
            "|16 |2     |12   |0          |1  |221|0   |512|7.0            |0.0              |2.0              |2.0       |[16.0,2.0,0.0,1.0,221.0,0.0,512.0,7.0,0.0,2.0,2.0]|\n",
            "|8  |2     |10   |0          |0  |141|1000|0  |1.0            |3.0              |1.0              |1.0       |[8.0,2.0,0.0,0.0,141.0,1000.0,0.0,1.0,3.0,1.0,1.0]|\n",
            "|8  |1     |11   |1          |1  |166|0   |128|0.0            |1.0              |0.0              |0.0       |[8.0,1.0,1.0,1.0,166.0,0.0,128.0,0.0,1.0,0.0,0.0] |\n",
            "+---+------+-----+-----------+---+---+----+---+---------------+-----------------+-----------------+----------+--------------------------------------------------+\n",
            "only showing top 20 rows\n",
            "\n"
          ]
        }
      ]
    },
    {
      "cell_type": "code",
      "source": [
        "model_inputs = laptop_details_copy.select('Price','laptop_details')\n",
        "model_inputs.show(truncate = False)"
      ],
      "metadata": {
        "colab": {
          "base_uri": "https://localhost:8080/"
        },
        "id": "BDwunJEMND_m",
        "outputId": "a4ae47e0-2bbf-4104-abf0-f3c3ecc83636"
      },
      "execution_count": 106,
      "outputs": [
        {
          "output_type": "stream",
          "name": "stdout",
          "text": [
            "+-----+--------------------------------------------------+\n",
            "|Price|laptop_details                                    |\n",
            "+-----+--------------------------------------------------+\n",
            "|11   |[8.0,1.0,0.0,1.0,227.0,0.0,128.0,7.0,1.0,0.0,2.0] |\n",
            "|11   |(11,[0,1,4,7,8,10],[8.0,1.0,128.0,7.0,1.0,2.0])   |\n",
            "|10   |[8.0,2.0,0.0,0.0,141.0,0.0,256.0,2.0,1.0,0.0,1.0] |\n",
            "|12   |[16.0,2.0,0.0,1.0,221.0,0.0,512.0,7.0,0.0,2.0,2.0]|\n",
            "|11   |[8.0,1.0,0.0,1.0,227.0,0.0,256.0,7.0,1.0,0.0,2.0] |\n",
            "|10   |[4.0,2.0,0.0,0.0,100.0,500.0,0.0,4.0,4.0,2.0,0.0] |\n",
            "|12   |(11,[0,1,3,4,7,10],[16.0,2.0,1.0,221.0,7.0,2.0])  |\n",
            "|11   |(11,[0,1,4,7,8,10],[8.0,1.0,128.0,7.0,1.0,2.0])   |\n",
            "|11   |(11,[0,1,4,6,7,9],[16.0,1.0,157.0,512.0,3.0,1.0]) |\n",
            "|11   |[8.0,2.0,0.0,1.0,157.0,0.0,256.0,4.0,1.0,0.0,0.0] |\n",
            "|10   |[4.0,2.0,0.0,0.0,100.0,500.0,0.0,2.0,1.0,0.0,1.0] |\n",
            "|10   |[4.0,2.0,0.0,0.0,141.0,500.0,0.0,2.0,3.0,0.0,1.0] |\n",
            "|12   |[16.0,2.0,0.0,1.0,221.0,0.0,256.0,7.0,0.0,2.0,2.0]|\n",
            "|10   |(11,[0,1,4,6,8,9],[4.0,2.0,141.0,256.0,3.0,2.0])  |\n",
            "|11   |[8.0,1.0,0.0,1.0,226.0,0.0,256.0,7.0,2.0,0.0,2.0] |\n",
            "|11   |[8.0,1.0,0.0,1.0,227.0,0.0,256.0,7.0,1.0,0.0,2.0] |\n",
            "|11   |(11,[0,1,4,6,9],[8.0,2.0,141.0,256.0,2.0])        |\n",
            "|12   |[16.0,2.0,0.0,1.0,221.0,0.0,512.0,7.0,0.0,2.0,2.0]|\n",
            "|10   |[8.0,2.0,0.0,0.0,141.0,1000.0,0.0,1.0,3.0,1.0,1.0]|\n",
            "|11   |[8.0,1.0,1.0,1.0,166.0,0.0,128.0,0.0,1.0,0.0,0.0] |\n",
            "+-----+--------------------------------------------------+\n",
            "only showing top 20 rows\n",
            "\n"
          ]
        }
      ]
    },
    {
      "cell_type": "code",
      "source": [
        "train_data,test_data = model_inputs.randomSplit([0.8,0.2],seed = 42)"
      ],
      "metadata": {
        "id": "ivkBPp-GMwja"
      },
      "execution_count": 107,
      "outputs": []
    },
    {
      "cell_type": "code",
      "source": [
        "train_data.show(truncate = False)"
      ],
      "metadata": {
        "colab": {
          "base_uri": "https://localhost:8080/"
        },
        "id": "PoA24fl5NfoG",
        "outputId": "cd0e9b1d-3dbc-445b-c9ce-ca03e8c5c005"
      },
      "execution_count": 108,
      "outputs": [
        {
          "output_type": "stream",
          "name": "stdout",
          "text": [
            "+-----+--------------------------------------------------+\n",
            "|Price|laptop_details                                    |\n",
            "+-----+--------------------------------------------------+\n",
            "|9    |(11,[0,1,4,6,7,8],[4.0,1.0,112.0,32.0,2.0,2.0])   |\n",
            "|9    |(11,[0,1,4,6,7,8],[4.0,1.0,157.0,32.0,9.0,2.0])   |\n",
            "|9    |(11,[0,1,4,7,8],[2.0,1.0,112.0,2.0,2.0])          |\n",
            "|9    |(11,[0,1,4,7,8],[2.0,1.0,112.0,12.0,2.0])         |\n",
            "|9    |(11,[0,1,4,7,8],[2.0,1.0,135.0,2.0,2.0])          |\n",
            "|9    |(11,[0,1,4,7,8],[2.0,1.0,135.0,3.0,2.0])          |\n",
            "|9    |(11,[0,1,4,7,8],[2.0,2.0,112.0,1.0,2.0])          |\n",
            "|9    |(11,[0,1,4,7,8],[4.0,1.0,112.0,1.0,2.0])          |\n",
            "|9    |(11,[0,1,4,7,8],[4.0,1.0,157.0,12.0,2.0])         |\n",
            "|9    |(11,[0,1,4,7,8],[4.0,1.0,166.0,12.0,2.0])         |\n",
            "|9    |(11,[0,1,4,7,8],[4.0,2.0,141.0,14.0,2.0])         |\n",
            "|9    |(11,[0,1,4,7,8,9],[2.0,2.0,112.0,3.0,4.0,2.0])    |\n",
            "|9    |[2.0,1.0,0.0,0.0,135.0,0.0,32.0,4.0,2.0,0.0,1.0]  |\n",
            "|9    |[2.0,2.0,0.0,0.0,100.0,0.0,16.0,4.0,2.0,0.0,1.0]  |\n",
            "|9    |[4.0,2.0,0.0,0.0,100.0,0.0,16.0,4.0,2.0,0.0,1.0]  |\n",
            "|10   |(11,[0,1,2,4,5,7],[12.0,2.0,1.0,100.0,1000.0,1.0])|\n",
            "|10   |(11,[0,1,2,4,5,8],[4.0,1.0,1.0,135.0,500.0,2.0])  |\n",
            "|10   |(11,[0,1,2,4,5,8],[4.0,2.0,1.0,147.0,500.0,3.0])  |\n",
            "|10   |(11,[0,1,2,4,5,8],[6.0,2.0,1.0,100.0,1000.0,3.0]) |\n",
            "|10   |(11,[0,1,2,4,5,8],[8.0,2.0,1.0,100.0,1000.0,3.0]) |\n",
            "+-----+--------------------------------------------------+\n",
            "only showing top 20 rows\n",
            "\n"
          ]
        }
      ]
    },
    {
      "cell_type": "code",
      "source": [
        "test_data.show(truncate = False)"
      ],
      "metadata": {
        "colab": {
          "base_uri": "https://localhost:8080/"
        },
        "id": "PBv5fwCINivp",
        "outputId": "3b652434-9c3e-457b-e440-189973a4da02"
      },
      "execution_count": 109,
      "outputs": [
        {
          "output_type": "stream",
          "name": "stdout",
          "text": [
            "+-----+-------------------------------------------------+\n",
            "|Price|laptop_details                                   |\n",
            "+-----+-------------------------------------------------+\n",
            "|9    |(11,[0,1,4,7,8],[2.0,1.0,112.0,1.0,2.0])         |\n",
            "|9    |(11,[0,1,4,7,8],[2.0,1.0,135.0,3.0,2.0])         |\n",
            "|9    |(11,[0,1,4,7,8],[2.0,1.0,157.0,9.0,2.0])         |\n",
            "|9    |(11,[0,1,4,7,8],[4.0,2.0,141.0,14.0,2.0])        |\n",
            "|9    |[4.0,2.0,0.0,0.0,100.0,500.0,0.0,3.0,2.0,0.0,1.0]|\n",
            "|10   |(11,[0,1,2,4,5,8],[4.0,2.0,1.0,166.0,1000.0,3.0])|\n",
            "|10   |(11,[0,1,2,4,6,8],[4.0,1.0,1.0,135.0,128.0,2.0]) |\n",
            "|10   |(11,[0,1,4,5,7],[6.0,2.0,100.0,1000.0,2.0])      |\n",
            "|10   |(11,[0,1,4,5,7,8],[4.0,2.0,100.0,500.0,2.0,3.0]) |\n",
            "|10   |(11,[0,1,4,5,7,8],[4.0,2.0,100.0,500.0,2.0,3.0]) |\n",
            "|10   |(11,[0,1,4,5,7,8],[4.0,2.0,100.0,500.0,3.0,2.0]) |\n",
            "|10   |(11,[0,1,4,5,7,8],[4.0,2.0,100.0,500.0,4.0,1.0]) |\n",
            "|10   |(11,[0,1,4,5,7,8],[4.0,2.0,100.0,500.0,4.0,2.0]) |\n",
            "|10   |(11,[0,1,4,5,7,8],[4.0,2.0,100.0,500.0,6.0,1.0]) |\n",
            "|10   |(11,[0,1,4,5,7,8],[4.0,2.0,100.0,1000.0,2.0,2.0])|\n",
            "|10   |(11,[0,1,4,5,7,8],[4.0,2.0,100.0,1000.0,4.0,3.0])|\n",
            "|10   |(11,[0,1,4,5,7,8],[4.0,2.0,141.0,1000.0,1.0,3.0])|\n",
            "|10   |(11,[0,1,4,5,8],[4.0,2.0,100.0,500.0,2.0])       |\n",
            "|10   |(11,[0,1,4,5,8],[8.0,2.0,100.0,1000.0,1.0])      |\n",
            "|10   |(11,[0,1,4,5,8,9],[4.0,2.0,100.0,1000.0,3.0,2.0])|\n",
            "+-----+-------------------------------------------------+\n",
            "only showing top 20 rows\n",
            "\n"
          ]
        }
      ]
    },
    {
      "cell_type": "markdown",
      "source": [
        "**Random Forest Regrression:**"
      ],
      "metadata": {
        "id": "dQerljJklaIw"
      }
    },
    {
      "cell_type": "code",
      "source": [
        "from pyspark.ml.regression import RandomForestRegressor\n",
        "from pyspark.ml.evaluation import RegressionEvaluator\n",
        "\n",
        "rf = RandomForestRegressor(featuresCol=\"laptop_details\", labelCol=\"Price\", numTrees=10)\n",
        "\n",
        "# Train the model\n",
        "model_rf = rf.fit(train_data)\n",
        "\n",
        "# Make predictions\n",
        "predictions_rf = model_rf.transform(test_data)"
      ],
      "metadata": {
        "id": "lGlzX2TWNlAS"
      },
      "execution_count": 110,
      "outputs": []
    },
    {
      "cell_type": "code",
      "source": [
        "predictions_rf.show(truncate = False)"
      ],
      "metadata": {
        "colab": {
          "base_uri": "https://localhost:8080/"
        },
        "id": "drZa5CclOO_5",
        "outputId": "c7fbbf48-334f-473e-a3bc-4df726ccd2b6"
      },
      "execution_count": 111,
      "outputs": [
        {
          "output_type": "stream",
          "name": "stdout",
          "text": [
            "+-----+-------------------------------------------------+------------------+\n",
            "|Price|laptop_details                                   |prediction        |\n",
            "+-----+-------------------------------------------------+------------------+\n",
            "|9    |(11,[0,1,4,7,8],[2.0,1.0,112.0,1.0,2.0])         |9.409915084915086 |\n",
            "|9    |(11,[0,1,4,7,8],[2.0,1.0,135.0,3.0,2.0])         |9.486096676954887 |\n",
            "|9    |(11,[0,1,4,7,8],[2.0,1.0,157.0,9.0,2.0])         |9.486096676954887 |\n",
            "|9    |(11,[0,1,4,7,8],[4.0,2.0,141.0,14.0,2.0])        |9.468433710527517 |\n",
            "|9    |[4.0,2.0,0.0,0.0,100.0,500.0,0.0,3.0,2.0,0.0,1.0]|10.02015191928368 |\n",
            "|10   |(11,[0,1,2,4,5,8],[4.0,2.0,1.0,166.0,1000.0,3.0])|10.195567642591525|\n",
            "|10   |(11,[0,1,2,4,6,8],[4.0,1.0,1.0,135.0,128.0,2.0]) |10.177593670067006|\n",
            "|10   |(11,[0,1,4,5,7],[6.0,2.0,100.0,1000.0,2.0])      |10.483875755256353|\n",
            "|10   |(11,[0,1,4,5,7,8],[4.0,2.0,100.0,500.0,2.0,3.0]) |10.025557677469703|\n",
            "|10   |(11,[0,1,4,5,7,8],[4.0,2.0,100.0,500.0,2.0,3.0]) |10.025557677469703|\n",
            "|10   |(11,[0,1,4,5,7,8],[4.0,2.0,100.0,500.0,3.0,2.0]) |10.02015191928368 |\n",
            "|10   |(11,[0,1,4,5,7,8],[4.0,2.0,100.0,500.0,4.0,1.0]) |10.373275825348996|\n",
            "|10   |(11,[0,1,4,5,7,8],[4.0,2.0,100.0,500.0,4.0,2.0]) |10.02015191928368 |\n",
            "|10   |(11,[0,1,4,5,7,8],[4.0,2.0,100.0,500.0,6.0,1.0]) |10.52435368017685 |\n",
            "|10   |(11,[0,1,4,5,7,8],[4.0,2.0,100.0,1000.0,2.0,2.0])|10.011818585950348|\n",
            "|10   |(11,[0,1,4,5,7,8],[4.0,2.0,100.0,1000.0,4.0,3.0])|10.033891010803035|\n",
            "|10   |(11,[0,1,4,5,7,8],[4.0,2.0,141.0,1000.0,1.0,3.0])|10.03090593617617 |\n",
            "|10   |(11,[0,1,4,5,8],[4.0,2.0,100.0,500.0,2.0])       |10.03868323862145 |\n",
            "|10   |(11,[0,1,4,5,8],[8.0,2.0,100.0,1000.0,1.0])      |10.453370304456634|\n",
            "|10   |(11,[0,1,4,5,8,9],[4.0,2.0,100.0,1000.0,3.0,2.0])|10.052422330140807|\n",
            "+-----+-------------------------------------------------+------------------+\n",
            "only showing top 20 rows\n",
            "\n"
          ]
        }
      ]
    },
    {
      "cell_type": "code",
      "source": [
        "evaluator = RegressionEvaluator(labelCol=\"Price\", predictionCol=\"prediction\", metricName=\"rmse\")\n",
        "rmse_rf = evaluator.evaluate(predictions_rf)\n",
        "print(f\"Root Mean Squared Error (RMSE) for Random Forest Regressor is: {rmse_rf}\")"
      ],
      "metadata": {
        "colab": {
          "base_uri": "https://localhost:8080/"
        },
        "id": "TncpFkfQORum",
        "outputId": "cd897a45-449e-477e-d1ba-ed8e483cb535"
      },
      "execution_count": 112,
      "outputs": [
        {
          "output_type": "stream",
          "name": "stdout",
          "text": [
            "Root Mean Squared Error (RMSE) for Random Forest Regressor is: 0.4059548469723767\n"
          ]
        }
      ]
    },
    {
      "cell_type": "code",
      "source": [
        "from pyspark.ml.regression import LinearRegression\n",
        "from pyspark.ml.evaluation import RegressionEvaluator\n",
        "\n",
        "lr = LinearRegression(featuresCol=\"laptop_details\", labelCol=\"Price\")\n",
        "\n",
        "model_lr = lr.fit(train_data)\n",
        "\n",
        "predictions_lr = model_lr.transform(test_data)"
      ],
      "metadata": {
        "id": "t6SGS-whlWtW"
      },
      "execution_count": 113,
      "outputs": []
    },
    {
      "cell_type": "code",
      "source": [
        "from pyspark.ml.evaluation import RegressionEvaluator\n",
        "evaluator_lr = RegressionEvaluator(labelCol=\"Price\", predictionCol=\"prediction\", metricName=\"rmse\")\n",
        "rmse_lr = evaluator.evaluate(predictions_lr)\n",
        "print(f\"Root Mean Squared Error (RMSE) for Linear Regressor is: {rmse_lr}\")"
      ],
      "metadata": {
        "colab": {
          "base_uri": "https://localhost:8080/"
        },
        "id": "bHoO0Ef3oHpt",
        "outputId": "b7466139-cf41-4e93-f2cb-fe4c927b9673"
      },
      "execution_count": 114,
      "outputs": [
        {
          "output_type": "stream",
          "name": "stdout",
          "text": [
            "Root Mean Squared Error (RMSE) for Linear Regressor is: 0.4618880314424389\n"
          ]
        }
      ]
    },
    {
      "cell_type": "code",
      "source": [
        "from pyspark.ml.regression import DecisionTreeRegressor\n",
        "\n",
        "dt = DecisionTreeRegressor(featuresCol=\"laptop_details\", labelCol=\"Price\")\n",
        "model_dt = dt.fit(train_data)\n",
        "predictions_dt = model_dt.transform(test_data)"
      ],
      "metadata": {
        "id": "oKJsc-Jspg0y"
      },
      "execution_count": 115,
      "outputs": []
    },
    {
      "cell_type": "code",
      "source": [
        "from pyspark.ml.evaluation import RegressionEvaluator\n",
        "\n",
        "evaluator_dt = RegressionEvaluator(labelCol = \"Price\", predictionCol = \"prediction\", metricName=\"rmse\")\n",
        "rmse_dt = evaluator_dt.evaluate(predictions_dt)\n",
        "print(f\"Root Mean Squared Error (RMSE) for Decision Tree Regressor is: {rmse_dt}\")"
      ],
      "metadata": {
        "colab": {
          "base_uri": "https://localhost:8080/"
        },
        "id": "5XRPZbS4qI1U",
        "outputId": "f5d90bfa-2b91-4b01-945f-5c919a21d634"
      },
      "execution_count": 116,
      "outputs": [
        {
          "output_type": "stream",
          "name": "stdout",
          "text": [
            "Root Mean Squared Error (RMSE) for Decision Tree Regressor is: 0.43672195069167075\n"
          ]
        }
      ]
    },
    {
      "cell_type": "markdown",
      "source": [
        "**Conclusion:**\n",
        "\n",
        "Based on the RMSE values, the Random Forest Regressor would be the preferred model for making predictions on dataset, as it has the lowest prediction error."
      ],
      "metadata": {
        "id": "jCKwcsuGsFWC"
      }
    },
    {
      "cell_type": "code",
      "source": [
        "features = laptop_details.dtypes\n",
        "features_list = []\n",
        "# print(features)\n",
        "for columns,dtypes in features:\n",
        "  features_list.append(columns)\n",
        "features_list.remove('Price')\n",
        "print(features_list)"
      ],
      "metadata": {
        "colab": {
          "base_uri": "https://localhost:8080/"
        },
        "id": "VBHrl8wz2pFk",
        "outputId": "fe5af614-26b0-44c3-c946-78f2a0119838"
      },
      "execution_count": 117,
      "outputs": [
        {
          "output_type": "stream",
          "name": "stdout",
          "text": [
            "['Company', 'Ram', 'Weight', 'TouchScreen', 'Ips', 'Ppi', 'Cpu_brand', 'HDD', 'SSD', 'Gpu_brand', 'Os']\n"
          ]
        }
      ]
    },
    {
      "cell_type": "code",
      "source": [
        "len_features = len(features_list)\n",
        "print(len_features)"
      ],
      "metadata": {
        "colab": {
          "base_uri": "https://localhost:8080/"
        },
        "id": "jK_-4z2K4ELo",
        "outputId": "69671607-b232-4cd4-bca7-4fd558a6900e"
      },
      "execution_count": 118,
      "outputs": [
        {
          "output_type": "stream",
          "name": "stdout",
          "text": [
            "11\n"
          ]
        }
      ]
    },
    {
      "cell_type": "code",
      "source": [
        "Company = 'Apple'\n",
        "Ram = 16\n",
        "Weight = 3\n",
        "TouchScreen = 0\n",
        "Ips = 1\n",
        "Ppi = 221\n",
        "Cpu_brand = 'Intel Core i7'\n",
        "HDD = 0\n",
        "SSD = 512\n",
        "Gpu_brand = 'AMD'\n",
        "Os = 'Mac'\n",
        "\n",
        "ul = [[\"Apple\",8,3,0,1,221,\"Intel Core i7\",0,512,\"AMD\",\"Mac\"]]"
      ],
      "metadata": {
        "id": "EJEbYIDB4rdR"
      },
      "execution_count": 143,
      "outputs": []
    },
    {
      "cell_type": "code",
      "source": [
        "from pyspark.sql.types import StructField,StructType,StringType,IntegerType,FloatType\n",
        "user_schema = (\n",
        "    StructType(\n",
        "        [\n",
        "            StructField('Company',StringType(),True),\n",
        "            StructField('Ram',IntegerType(),True),\n",
        "            StructField('Weight',IntegerType(),True),\n",
        "            StructField('TouchScreen',IntegerType(),True),\n",
        "            StructField('Ips',IntegerType(),True),\n",
        "            StructField('Ppi',IntegerType(),True),\n",
        "            StructField('Cpu_brand',StringType(),True),\n",
        "            StructField('HDD',IntegerType(),True),\n",
        "            StructField('SSD',IntegerType(),True),\n",
        "            StructField('Gpu_brand',StringType(),True),\n",
        "            StructField('Os',StringType(),True)\n",
        "        ]\n",
        "    )\n",
        ")"
      ],
      "metadata": {
        "id": "GRwRyJs9C8a-"
      },
      "execution_count": 144,
      "outputs": []
    },
    {
      "cell_type": "code",
      "source": [
        "user_list = spark.createDataFrame(ul,schema=user_schema)\n",
        "user_list.show()"
      ],
      "metadata": {
        "colab": {
          "base_uri": "https://localhost:8080/"
        },
        "id": "S0hLTwDe2b2z",
        "outputId": "c32885d0-4551-4c3f-f607-c1a6627cc684"
      },
      "execution_count": 145,
      "outputs": [
        {
          "output_type": "stream",
          "name": "stdout",
          "text": [
            "+-------+---+------+-----------+---+---+-------------+---+---+---------+---+\n",
            "|Company|Ram|Weight|TouchScreen|Ips|Ppi|    Cpu_brand|HDD|SSD|Gpu_brand| Os|\n",
            "+-------+---+------+-----------+---+---+-------------+---+---+---------+---+\n",
            "|  Apple|  8|     3|          0|  1|221|Intel Core i7|  0|512|      AMD|Mac|\n",
            "+-------+---+------+-----------+---+---+-------------+---+---+---------+---+\n",
            "\n"
          ]
        }
      ]
    },
    {
      "cell_type": "markdown",
      "source": [
        "Now we need to performe label encoding."
      ],
      "metadata": {
        "id": "qp5zjkA3EPJS"
      }
    },
    {
      "cell_type": "code",
      "source": [
        "user_list = company_model.transform(user_list)\n",
        "user_list = cpu_brand_model.transform(user_list)\n",
        "user_list = gpu_brand_model.transform(user_list)\n",
        "user_list = os_model.transform(user_list)"
      ],
      "metadata": {
        "id": "zvkUe4RbE3r7"
      },
      "execution_count": 146,
      "outputs": []
    },
    {
      "cell_type": "code",
      "source": [
        "user_list.show(truncate = False)"
      ],
      "metadata": {
        "colab": {
          "base_uri": "https://localhost:8080/"
        },
        "id": "qvmlSlsMEN6m",
        "outputId": "f2403ca1-6789-4e7e-a0cc-317082dcdb77"
      },
      "execution_count": 147,
      "outputs": [
        {
          "output_type": "stream",
          "name": "stdout",
          "text": [
            "+-------+---+------+-----------+---+---+-------------+---+---+---------+---+---------------+-----------------+-----------------+----------+\n",
            "|Company|Ram|Weight|TouchScreen|Ips|Ppi|Cpu_brand    |HDD|SSD|Gpu_brand|Os |Company_encoded|Cpu_brand_encoded|Gpu_brand_encoded|Os_encoded|\n",
            "+-------+---+------+-----------+---+---+-------------+---+---+---------+---+---------------+-----------------+-----------------+----------+\n",
            "|Apple  |8  |3     |0          |1  |221|Intel Core i7|0  |512|AMD      |Mac|7.0            |0.0              |2.0              |2.0       |\n",
            "+-------+---+------+-----------+---+---+-------------+---+---+---------+---+---------------+-----------------+-----------------+----------+\n",
            "\n"
          ]
        }
      ]
    },
    {
      "cell_type": "code",
      "source": [
        "user_list = user_list.drop('Company','Cpu_brand','Gpu_brand','Os')"
      ],
      "metadata": {
        "id": "M64ZKU2iDJg_"
      },
      "execution_count": 148,
      "outputs": []
    },
    {
      "cell_type": "code",
      "source": [
        "user_list.show(truncate = False)"
      ],
      "metadata": {
        "colab": {
          "base_uri": "https://localhost:8080/"
        },
        "id": "LJw7iFVvJ2aG",
        "outputId": "a4c872ed-e649-478e-cd29-8a7155726ee5"
      },
      "execution_count": 149,
      "outputs": [
        {
          "output_type": "stream",
          "name": "stdout",
          "text": [
            "+---+------+-----------+---+---+---+---+---------------+-----------------+-----------------+----------+\n",
            "|Ram|Weight|TouchScreen|Ips|Ppi|HDD|SSD|Company_encoded|Cpu_brand_encoded|Gpu_brand_encoded|Os_encoded|\n",
            "+---+------+-----------+---+---+---+---+---------------+-----------------+-----------------+----------+\n",
            "|8  |3     |0          |1  |221|0  |512|7.0            |0.0              |2.0              |2.0       |\n",
            "+---+------+-----------+---+---+---+---+---------------+-----------------+-----------------+----------+\n",
            "\n"
          ]
        }
      ]
    },
    {
      "cell_type": "code",
      "source": [
        "from pyspark.ml.feature import VectorAssembler\n",
        "\n",
        "prediction1_assembler = VectorAssembler(inputCols = ['Ram','Weight','TouchScreen','Ips','Ppi','HDD','SSD','Company_encoded','Cpu_brand_encoded','Gpu_brand_encoded','Os_encoded'],outputCol = 'laptop_details')\n",
        "user_list = prediction1_assembler.transform(user_list)"
      ],
      "metadata": {
        "id": "Cah2fb3NJ4_u"
      },
      "execution_count": 150,
      "outputs": []
    },
    {
      "cell_type": "code",
      "source": [
        "user_list.show(truncate = False)"
      ],
      "metadata": {
        "colab": {
          "base_uri": "https://localhost:8080/"
        },
        "id": "Acsv9MuMKwZn",
        "outputId": "1cb81b9b-a048-4a5b-b700-c10c6b4040cc"
      },
      "execution_count": 151,
      "outputs": [
        {
          "output_type": "stream",
          "name": "stdout",
          "text": [
            "+---+------+-----------+---+---+---+---+---------------+-----------------+-----------------+----------+-------------------------------------------------+\n",
            "|Ram|Weight|TouchScreen|Ips|Ppi|HDD|SSD|Company_encoded|Cpu_brand_encoded|Gpu_brand_encoded|Os_encoded|laptop_details                                   |\n",
            "+---+------+-----------+---+---+---+---+---------------+-----------------+-----------------+----------+-------------------------------------------------+\n",
            "|8  |3     |0          |1  |221|0  |512|7.0            |0.0              |2.0              |2.0       |[8.0,3.0,0.0,1.0,221.0,0.0,512.0,7.0,0.0,2.0,2.0]|\n",
            "+---+------+-----------+---+---+---+---+---------------+-----------------+-----------------+----------+-------------------------------------------------+\n",
            "\n"
          ]
        }
      ]
    },
    {
      "cell_type": "code",
      "source": [
        "input_to_model = user_list.select('laptop_details')\n",
        "input_to_model.show(truncate = False)"
      ],
      "metadata": {
        "colab": {
          "base_uri": "https://localhost:8080/"
        },
        "id": "GGSO_z3rMFbM",
        "outputId": "56d78150-520a-43f4-e992-3694cd40405c"
      },
      "execution_count": 152,
      "outputs": [
        {
          "output_type": "stream",
          "name": "stdout",
          "text": [
            "+-------------------------------------------------+\n",
            "|laptop_details                                   |\n",
            "+-------------------------------------------------+\n",
            "|[8.0,3.0,0.0,1.0,221.0,0.0,512.0,7.0,0.0,2.0,2.0]|\n",
            "+-------------------------------------------------+\n",
            "\n"
          ]
        }
      ]
    },
    {
      "cell_type": "code",
      "source": [
        "prediction1 = model_rf.transform(input_to_model)"
      ],
      "metadata": {
        "id": "ctHYwhyULPB8"
      },
      "execution_count": 153,
      "outputs": []
    },
    {
      "cell_type": "code",
      "source": [
        "prediction1 = prediction1.select(prediction1.prediction)"
      ],
      "metadata": {
        "id": "eCW4pmWzN_xg"
      },
      "execution_count": 155,
      "outputs": []
    },
    {
      "cell_type": "code",
      "source": [
        "prediction1.show(truncate = False)"
      ],
      "metadata": {
        "colab": {
          "base_uri": "https://localhost:8080/"
        },
        "id": "-otLyYyZMngS",
        "outputId": "a0f9d4dd-cf8c-4419-a54b-b97d349f81b6"
      },
      "execution_count": 156,
      "outputs": [
        {
          "output_type": "stream",
          "name": "stdout",
          "text": [
            "+-----------------+\n",
            "|prediction       |\n",
            "+-----------------+\n",
            "|11.53457936691796|\n",
            "+-----------------+\n",
            "\n"
          ]
        }
      ]
    },
    {
      "cell_type": "code",
      "source": [],
      "metadata": {
        "id": "iFifZyRcMrMh"
      },
      "execution_count": null,
      "outputs": []
    }
  ]
}